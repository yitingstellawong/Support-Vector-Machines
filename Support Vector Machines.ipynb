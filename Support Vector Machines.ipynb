{
 "cells": [
  {
   "cell_type": "markdown",
   "metadata": {},
   "source": [
    "Yiting Wang 4646909520"
   ]
  },
  {
   "cell_type": "markdown",
   "metadata": {},
   "source": [
    "(a)"
   ]
  },
  {
   "cell_type": "code",
   "execution_count": 48,
   "metadata": {},
   "outputs": [],
   "source": [
    "import warnings\n",
    "warnings.filterwarnings(\"ignore\")"
   ]
  },
  {
   "cell_type": "code",
   "execution_count": 1,
   "metadata": {},
   "outputs": [],
   "source": [
    "import numpy as np, pandas as pd \n",
    "data = pd.read_csv('../Data/Anuran Calls (MFCCs)/Frogs_MFCCs.csv')"
   ]
  },
  {
   "cell_type": "code",
   "execution_count": 20,
   "metadata": {},
   "outputs": [],
   "source": [
    "from sklearn.model_selection import train_test_split\n",
    "train_data, test_data = train_test_split(data, test_size = 0.3)\n",
    "X_data = data.iloc[:, :-4]\n",
    "\n",
    "#Construct X_train, family_train, genus_train, species_train\n",
    "X_train = train_data.iloc[:, :-4]\n",
    "family_train = train_data['Family']\n",
    "genus_train = train_data['Genus']\n",
    "species_train = train_data['Species']\n",
    "\n",
    "#Construct X_test, family_test, genus_test, species_test\n",
    "X_test = test_data.iloc[:, :-4]\n",
    "family_test = test_data['Family']\n",
    "genus_test = test_data['Genus']\n",
    "species_test = test_data['Species']"
   ]
  },
  {
   "cell_type": "markdown",
   "metadata": {},
   "source": [
    "b(i)"
   ]
  },
  {
   "cell_type": "markdown",
   "metadata": {},
   "source": [
    "1. Exact Match Score\n",
    "One trivial way around would just to ignore partially correct (consider them incorrect) and extend the accuracy used in single label case for multi-label prediction.\n",
    "\n",
    "2. Hamming Loss\n",
    "It reports how many times on average, the relevance of an example to a class label is incorrectly predicted. Therefore, hamming loss takes into account the prediction error (an incorrect label is predicted) and missing error (a relevant label not predicted), normalized over total number of classes and total number of examples.\n",
    "\n",
    "3. Hamming Score\n",
    "Hamming Score = 1 - Hamming Loss"
   ]
  },
  {
   "cell_type": "markdown",
   "metadata": {},
   "source": [
    "b(ii)"
   ]
  },
  {
   "cell_type": "code",
   "execution_count": 27,
   "metadata": {},
   "outputs": [],
   "source": [
    "from sklearn.svm import SVC\n",
    "from sklearn.multiclass import OneVsRestClassifier\n",
    "from sklearn.model_selection import GridSearchCV, KFold\n",
    "\n",
    "C_range = np.logspace(-1, 4, 8)\n",
    "gamma_range = np.linspace(0.1, 2, 20)\n",
    "params = {'estimator__gamma':gamma_range, 'estimator__C':C_range}\n",
    "SVM = OneVsRestClassifier(SVC(kernel = 'rbf', tol = 0.1))\n",
    "grid = GridSearchCV(SVM, param_grid = params, cv = KFold(10))"
   ]
  },
  {
   "cell_type": "code",
   "execution_count": 28,
   "metadata": {},
   "outputs": [],
   "source": [
    "from sklearn.metrics import hamming_loss, accuracy_score\n",
    "\n",
    "#Family\n",
    "family_SVM = grid.fit(X_train, family_train)"
   ]
  },
  {
   "cell_type": "code",
   "execution_count": 29,
   "metadata": {},
   "outputs": [
    {
     "name": "stdout",
     "output_type": "stream",
     "text": [
      "Family:\n",
      "Best SVM Penalty: 13.895\n",
      "Best SVM Gamma: 1.6\n",
      "Best Width of Gaussian Kernel: 0.559\n",
      "Exact Match Score: 0.993\n",
      "Exact Match Loss: 0.007\n",
      "Hamming Loss: 0.007\n"
     ]
    }
   ],
   "source": [
    "print('Family:')\n",
    "\n",
    "#Best SVM Penalty\n",
    "family_best_params = family_SVM.best_params_\n",
    "family_best_C = family_best_params['estimator__C']\n",
    "family_best_C = round(family_best_C, 3)\n",
    "print('Best SVM Penalty:', family_best_C)\n",
    "\n",
    "#Best SVM Gamma\n",
    "family_best_Gamma = family_best_params['estimator__gamma']\n",
    "family_best_Gamma = round(family_best_Gamma, 3)\n",
    "print('Best SVM Gamma:', family_best_Gamma)\n",
    "\n",
    "#Best Width of Gaussian Kernel\n",
    "family_best_width = round(1/np.sqrt(2*family_best_Gamma), 3)\n",
    "print('Best Width of Gaussian Kernel:', family_best_width)\n",
    "\n",
    "#Exact Match Score\n",
    "family_pred = family_SVM.predict(X_test)\n",
    "family_score = accuracy_score(family_pred, family_test)\n",
    "family_score = round(family_score, 3)\n",
    "print('Exact Match Score:', family_score)\n",
    "\n",
    "#Exact Match Loss\n",
    "family_loss = round(1 - family_score, 3)\n",
    "print('Exact Match Loss:', family_loss)\n",
    "\n",
    "#Hamming Loss\n",
    "family_Hamming_loss = hamming_loss(family_pred, family_test)\n",
    "family_Hamming_loss = round(family_Hamming_loss, 3)\n",
    "print('Hamming Loss:', family_Hamming_loss)"
   ]
  },
  {
   "cell_type": "code",
   "execution_count": 69,
   "metadata": {},
   "outputs": [],
   "source": [
    "#Genus\n",
    "genus_SVM = grid.fit(X_train, genus_train)"
   ]
  },
  {
   "cell_type": "code",
   "execution_count": 70,
   "metadata": {},
   "outputs": [
    {
     "name": "stdout",
     "output_type": "stream",
     "text": [
      "Genus:\n",
      "Best SVM Penalty: 2.683\n",
      "Best SVM Gamma: 1.8\n",
      "Best Width of Gaussian Kernel: 0.527\n",
      "Exact Match Score: 0.989\n",
      "Exact Match Loss: 0.011\n",
      "Hamming Loss: 0.011\n"
     ]
    }
   ],
   "source": [
    "print('Genus:')\n",
    "\n",
    "#Best SVM Penalty\n",
    "genus_best_params = genus_SVM.best_params_\n",
    "genus_best_C = genus_best_params['estimator__C']\n",
    "genus_best_C = round(genus_best_C, 3)\n",
    "print('Best SVM Penalty:', genus_best_C)\n",
    "\n",
    "#Best SVM Gamma\n",
    "genus_best_Gamma = genus_best_params['estimator__gamma']\n",
    "genus_best_Gamma = round(genus_best_Gamma, 3)\n",
    "print('Best SVM Gamma:', genus_best_Gamma)\n",
    "\n",
    "#Best Width of Gaussian Kernel\n",
    "genus_best_width = round(1/np.sqrt(2*genus_best_Gamma), 3)\n",
    "print('Best Width of Gaussian Kernel:', genus_best_width)\n",
    "\n",
    "#Exact Match Score\n",
    "genus_pred = genus_SVM.predict(X_test)\n",
    "genus_score = accuracy_score(genus_pred, genus_test)\n",
    "genus_score = round(genus_score, 3)\n",
    "print('Exact Match Score:', genus_score)\n",
    "\n",
    "#Exact Match Loss\n",
    "genus_loss = round(1 - genus_score, 3)\n",
    "print('Exact Match Loss:', genus_loss)\n",
    "\n",
    "#Hamming Loss\n",
    "genus_Hamming_loss = hamming_loss(genus_pred, genus_test)\n",
    "genus_Hamming_loss = round(genus_Hamming_loss, 3)\n",
    "print('Hamming Loss:', genus_Hamming_loss)"
   ]
  },
  {
   "cell_type": "code",
   "execution_count": 67,
   "metadata": {},
   "outputs": [],
   "source": [
    "#Species\n",
    "species_SVM = grid.fit(X_train, species_train)"
   ]
  },
  {
   "cell_type": "code",
   "execution_count": 68,
   "metadata": {},
   "outputs": [
    {
     "name": "stdout",
     "output_type": "stream",
     "text": [
      "Species:\n",
      "Best SVM Penalty: 71.969\n",
      "Best SVM Gamma: 2.0\n",
      "Best Width of Gaussian Kernel: 0.5\n",
      "Exact Match Score: 0.991\n",
      "Exact Match Loss: 0.009\n",
      "Hamming Loss: 0.009\n"
     ]
    }
   ],
   "source": [
    "print('Species:')\n",
    "\n",
    "#Best SVM Penalty\n",
    "species_best_params = species_SVM.best_params_\n",
    "species_best_C = species_best_params['estimator__C']\n",
    "species_best_C = round(species_best_C, 3)\n",
    "print('Best SVM Penalty:', species_best_C)\n",
    "\n",
    "#Best SVM Gamma\n",
    "species_best_Gamma = species_best_params['estimator__gamma']\n",
    "species_best_Gamma = round(species_best_Gamma, 3)\n",
    "print('Best SVM Gamma:', species_best_Gamma)\n",
    "\n",
    "#Best Width of Gaussian Kernel\n",
    "species_best_width = round(1/np.sqrt(2*species_best_Gamma), 3)\n",
    "print('Best Width of Gaussian Kernel:', species_best_width)\n",
    "\n",
    "#Exact Match Score\n",
    "species_pred = species_SVM.predict(X_test)\n",
    "species_score = accuracy_score(species_pred, species_test)\n",
    "species_score = round(species_score, 3)\n",
    "print('Exact Match Score:', species_score)\n",
    "\n",
    "#Exact Match Loss\n",
    "species_loss = round(1 - species_score, 3)\n",
    "print('Exact Match Loss:', species_loss)\n",
    "\n",
    "#Hamming Loss\n",
    "species_Hamming_loss = hamming_loss(species_pred, species_test)\n",
    "species_Hamming_loss = round(species_Hamming_loss, 3)\n",
    "print('Hamming Loss:', species_Hamming_loss)"
   ]
  },
  {
   "cell_type": "code",
   "execution_count": 37,
   "metadata": {},
   "outputs": [],
   "source": [
    "from sklearn import preprocessing\n",
    "scaler = preprocessing.StandardScaler()\n",
    "scaler = scaler.fit(X_data)\n",
    "standard_X_train = scaler.transform(X_train)\n",
    "standard_X_test = scaler.transform(X_test)"
   ]
  },
  {
   "cell_type": "code",
   "execution_count": 38,
   "metadata": {},
   "outputs": [],
   "source": [
    "#Standardized Family\n",
    "standard_family_SVM = grid.fit(standard_X_train, family_train)"
   ]
  },
  {
   "cell_type": "code",
   "execution_count": 40,
   "metadata": {},
   "outputs": [
    {
     "name": "stdout",
     "output_type": "stream",
     "text": [
      "Standardized Family:\n",
      "Best SVM Penalty: 13.895\n",
      "Best SVM Gamma: 0.1\n",
      "Best Width of Gaussian Kernel: 2.236\n",
      "Exact Match Score: 0.989\n",
      "Exact Match Loss: 0.011\n",
      "Hamming Loss: 0.011\n"
     ]
    }
   ],
   "source": [
    "print('Standardized Family:')\n",
    "\n",
    "#Best SVM Penalty\n",
    "best_params = standard_family_SVM.best_params_\n",
    "best_C = best_params['estimator__C']\n",
    "best_C = round(best_C, 3)\n",
    "print('Best SVM Penalty:', best_C)\n",
    "\n",
    "#Best SVM Gamma\n",
    "best_Gamma = best_params['estimator__gamma']\n",
    "best_Gamma = round(best_Gamma, 3)\n",
    "print('Best SVM Gamma:', best_Gamma)\n",
    "\n",
    "#Best Width of Gaussian Kernel\n",
    "best_width = round(1/np.sqrt(2*best_Gamma), 3)\n",
    "print('Best Width of Gaussian Kernel:', best_width)\n",
    "\n",
    "#Exact Match Score\n",
    "y_pred = standard_family_SVM.predict(standard_X_test)\n",
    "score = accuracy_score(y_pred, family_test)\n",
    "score = round(score, 3)\n",
    "print('Exact Match Score:', score)\n",
    "\n",
    "#Exact Match Loss\n",
    "loss = round(1 - score, 3)\n",
    "print('Exact Match Loss:', loss)\n",
    "\n",
    "#Hamming Loss\n",
    "Hamming_loss = hamming_loss(y_pred, family_test)\n",
    "Hamming_loss = round(Hamming_loss, 3)\n",
    "print('Hamming Loss:', Hamming_loss)"
   ]
  },
  {
   "cell_type": "code",
   "execution_count": 42,
   "metadata": {},
   "outputs": [],
   "source": [
    "#Standardized Genus\n",
    "standard_genus_SVM = grid.fit(standard_X_train, genus_train)"
   ]
  },
  {
   "cell_type": "code",
   "execution_count": 43,
   "metadata": {},
   "outputs": [
    {
     "name": "stdout",
     "output_type": "stream",
     "text": [
      "Standardized Genus:\n",
      "Best SVM Penalty: 71.969\n",
      "Best SVM Gamma: 0.1\n",
      "Best Width of Gaussian Kernel: 2.236\n",
      "Exact Match Score: 0.989\n",
      "Exact Match Loss: 0.011\n",
      "Hamming Loss: 0.011\n"
     ]
    }
   ],
   "source": [
    "print('Standardized Genus:')\n",
    "\n",
    "#Best SVM Penalty\n",
    "best_params = standard_genus_SVM.best_params_\n",
    "best_C = best_params['estimator__C']\n",
    "best_C = round(best_C, 3)\n",
    "print('Best SVM Penalty:', best_C)\n",
    "\n",
    "#Best SVM Gamma\n",
    "best_Gamma = best_params['estimator__gamma']\n",
    "best_Gamma = round(best_Gamma, 3)\n",
    "print('Best SVM Gamma:', best_Gamma)\n",
    "\n",
    "#Best Width of Gaussian Kernel\n",
    "best_width = round(1/np.sqrt(2*best_Gamma), 3)\n",
    "print('Best Width of Gaussian Kernel:', best_width)\n",
    "\n",
    "#Exact Match Score\n",
    "y_pred = standard_genus_SVM.predict(standard_X_test)\n",
    "score = accuracy_score(y_pred, genus_test)\n",
    "score = round(score, 3)\n",
    "print('Exact Match Score:', score)\n",
    "\n",
    "#Exact Match Loss\n",
    "loss = round(1 - score, 3)\n",
    "print('Exact Match Loss:', loss)\n",
    "\n",
    "#Hamming Loss\n",
    "Hamming_loss = hamming_loss(y_pred, genus_test)\n",
    "Hamming_loss = round(Hamming_loss, 3)\n",
    "print('Hamming Loss:', Hamming_loss)"
   ]
  },
  {
   "cell_type": "code",
   "execution_count": 44,
   "metadata": {},
   "outputs": [],
   "source": [
    "#Standardized Species\n",
    "standard_species_SVM = grid.fit(standard_X_train, species_train)"
   ]
  },
  {
   "cell_type": "code",
   "execution_count": 45,
   "metadata": {},
   "outputs": [
    {
     "name": "stdout",
     "output_type": "stream",
     "text": [
      "Standardized Species:\n",
      "Best SVM Penalty: 2.683\n",
      "Best SVM Gamma: 0.1\n",
      "Best Width of Gaussian Kernel: 2.236\n",
      "Exact Match Score: 0.989\n",
      "Exact Match Loss: 0.011\n",
      "Hamming Loss: 0.011\n"
     ]
    }
   ],
   "source": [
    "print('Standardized Species:')\n",
    "\n",
    "#Best SVM Penalty\n",
    "best_params = standard_species_SVM.best_params_\n",
    "best_C = best_params['estimator__C']\n",
    "best_C = round(best_C, 3)\n",
    "print('Best SVM Penalty:', best_C)\n",
    "\n",
    "#Best SVM Gamma\n",
    "best_Gamma = best_params['estimator__gamma']\n",
    "best_Gamma = round(best_Gamma, 3)\n",
    "print('Best SVM Gamma:', best_Gamma)\n",
    "\n",
    "#Best Width of Gaussian Kernel\n",
    "best_width = round(1/np.sqrt(2*best_Gamma), 3)\n",
    "print('Best Width of Gaussian Kernel:', best_width)\n",
    "\n",
    "#Exact Match Score\n",
    "y_pred = standard_species_SVM.predict(standard_X_test)\n",
    "score = accuracy_score(y_pred, species_test)\n",
    "score = round(score, 3)\n",
    "print('Exact Match Score:', score)\n",
    "\n",
    "#Exact Match Loss\n",
    "loss = round(1 - score, 3)\n",
    "print('Exact Match Loss:', loss)\n",
    "\n",
    "#Hamming Loss\n",
    "Hamming_loss = hamming_loss(y_pred, species_test)\n",
    "Hamming_loss = round(Hamming_loss, 3)\n",
    "print('Hamming Loss:', Hamming_loss)"
   ]
  },
  {
   "cell_type": "markdown",
   "metadata": {},
   "source": [
    "b(iii)"
   ]
  },
  {
   "cell_type": "code",
   "execution_count": 46,
   "metadata": {},
   "outputs": [],
   "source": [
    "from sklearn.svm import LinearSVC\n",
    "L1_SVM = LinearSVC(penalty = 'l1', dual = False)\n",
    "L1_params = {'C':C_range}\n",
    "L1_grid = GridSearchCV(L1_SVM, L1_params, cv = KFold(10))"
   ]
  },
  {
   "cell_type": "code",
   "execution_count": 49,
   "metadata": {},
   "outputs": [],
   "source": [
    "#L1 Family\n",
    "L1_family_SVM = L1_grid.fit(standard_X_train, family_train)"
   ]
  },
  {
   "cell_type": "code",
   "execution_count": 51,
   "metadata": {},
   "outputs": [
    {
     "name": "stdout",
     "output_type": "stream",
     "text": [
      "L1 Family:\n",
      "Best SVM Penalty: 0.518\n",
      "Exact Match Score: 0.94\n",
      "Exact Match Loss: 0.06\n",
      "Hamming Loss: 0.06\n"
     ]
    }
   ],
   "source": [
    "print('L1 Family:')\n",
    "\n",
    "#Best SVM Penalty\n",
    "best_params = L1_family_SVM.best_params_\n",
    "best_C = best_params['C']\n",
    "best_C = round(best_C, 3)\n",
    "print('Best SVM Penalty:', best_C)\n",
    "\n",
    "#Exact Match Score\n",
    "y_pred = L1_family_SVM.predict(standard_X_test)\n",
    "score = accuracy_score(y_pred, family_test)\n",
    "score = round(score, 3)\n",
    "print('Exact Match Score:', score)\n",
    "\n",
    "#Exact Match Loss\n",
    "loss = round(1 - score, 3)\n",
    "print('Exact Match Loss:', loss)\n",
    "\n",
    "#Hamming Loss\n",
    "Hamming_loss = hamming_loss(y_pred, family_test)\n",
    "Hamming_loss = round(Hamming_loss, 3)\n",
    "print('Hamming Loss:', Hamming_loss)"
   ]
  },
  {
   "cell_type": "code",
   "execution_count": 52,
   "metadata": {},
   "outputs": [],
   "source": [
    "#L1 Genus\n",
    "L1_genus_SVM = L1_grid.fit(standard_X_train, genus_train)"
   ]
  },
  {
   "cell_type": "code",
   "execution_count": 53,
   "metadata": {},
   "outputs": [
    {
     "name": "stdout",
     "output_type": "stream",
     "text": [
      "L1 Genus:\n",
      "Best SVM Penalty: 71.969\n",
      "Exact Match Score: 0.953\n",
      "Exact Match Loss: 0.047\n",
      "Hamming Loss: 0.047\n"
     ]
    }
   ],
   "source": [
    "print('L1 Genus:')\n",
    "\n",
    "#Best SVM Penalty\n",
    "best_params = L1_genus_SVM.best_params_\n",
    "best_C = best_params['C']\n",
    "best_C = round(best_C, 3)\n",
    "print('Best SVM Penalty:', best_C)\n",
    "\n",
    "#Exact Match Score\n",
    "y_pred = L1_genus_SVM.predict(standard_X_test)\n",
    "score = accuracy_score(y_pred, genus_test)\n",
    "score = round(score, 3)\n",
    "print('Exact Match Score:', score)\n",
    "\n",
    "#Exact Match Loss\n",
    "loss = round(1 - score, 3)\n",
    "print('Exact Match Loss:', loss)\n",
    "\n",
    "#Hamming Loss\n",
    "Hamming_loss = hamming_loss(y_pred, genus_test)\n",
    "Hamming_loss = round(Hamming_loss, 3)\n",
    "print('Hamming Loss:', Hamming_loss)"
   ]
  },
  {
   "cell_type": "code",
   "execution_count": 54,
   "metadata": {},
   "outputs": [],
   "source": [
    "#L1 Species\n",
    "L1_species_SVM = L1_grid.fit(standard_X_train, species_train)"
   ]
  },
  {
   "cell_type": "code",
   "execution_count": 55,
   "metadata": {},
   "outputs": [
    {
     "name": "stdout",
     "output_type": "stream",
     "text": [
      "L1 Species:\n",
      "Best SVM Penalty: 71.969\n",
      "Exact Match Score: 0.962\n",
      "Exact Match Loss: 0.038\n",
      "Hamming Loss: 0.038\n"
     ]
    }
   ],
   "source": [
    "print('L1 Species:')\n",
    "\n",
    "#Best SVM Penalty\n",
    "best_params = L1_species_SVM.best_params_\n",
    "best_C = best_params['C']\n",
    "best_C = round(best_C, 3)\n",
    "print('Best SVM Penalty:', best_C)\n",
    "\n",
    "#Exact Match Score\n",
    "y_pred = L1_species_SVM.predict(standard_X_test)\n",
    "score = accuracy_score(y_pred, species_test)\n",
    "score = round(score, 3)\n",
    "print('Exact Match Score:', score)\n",
    "\n",
    "#Exact Match Loss\n",
    "loss = round(1 - score, 3)\n",
    "print('Exact Match Loss:', loss)\n",
    "\n",
    "#Hamming Loss\n",
    "Hamming_loss = hamming_loss(y_pred, species_test)\n",
    "Hamming_loss = round(Hamming_loss, 3)\n",
    "print('Hamming Loss:', Hamming_loss)"
   ]
  },
  {
   "cell_type": "markdown",
   "metadata": {},
   "source": [
    "b(iv)"
   ]
  },
  {
   "cell_type": "code",
   "execution_count": 56,
   "metadata": {},
   "outputs": [],
   "source": [
    "from imblearn.over_sampling import SMOTE\n",
    "smote = SMOTE()\n",
    "\n",
    "smote_family_X, smote_family = smote.fit_sample(X_train, family_train)\n",
    "smote_genus_X, smote_genus = smote.fit_sample(X_train, genus_train)\n",
    "smote_species_X, smote_species = smote.fit_sample(X_train, species_train)"
   ]
  },
  {
   "cell_type": "code",
   "execution_count": 57,
   "metadata": {},
   "outputs": [],
   "source": [
    "smote_SVM = LinearSVC(penalty = 'l1', dual = False)\n",
    "smote_params = {'C':C_range}\n",
    "smote_grid = GridSearchCV(smote_SVM , smote_params, cv = KFold(10))"
   ]
  },
  {
   "cell_type": "code",
   "execution_count": 58,
   "metadata": {},
   "outputs": [],
   "source": [
    "#SMOTE Family\n",
    "smote_family_SVM = smote_grid.fit(smote_family_X, smote_family)"
   ]
  },
  {
   "cell_type": "code",
   "execution_count": 61,
   "metadata": {},
   "outputs": [
    {
     "name": "stdout",
     "output_type": "stream",
     "text": [
      "SMOTE Family:\n",
      "Best SVM Penalty: 13.895\n",
      "Exact Match Score: 0.95\n",
      "Exact Match Loss: 0.05\n",
      "Hamming Loss: 0.05\n"
     ]
    }
   ],
   "source": [
    "print('SMOTE Family:')\n",
    "\n",
    "#Best SVM Penalty\n",
    "best_params = smote_family_SVM.best_params_\n",
    "best_C = best_params['C']\n",
    "best_C = round(best_C, 3)\n",
    "print('Best SVM Penalty:', best_C)\n",
    "\n",
    "#Exact Match Score\n",
    "y_pred = smote_family_SVM.predict(smote_family_X)\n",
    "score = accuracy_score(y_pred, smote_family)\n",
    "score = round(score, 3)\n",
    "print('Exact Match Score:', score)\n",
    "\n",
    "#Exact Match Loss\n",
    "loss = round(1 - score, 3)\n",
    "print('Exact Match Loss:', loss)\n",
    "\n",
    "#Hamming Loss\n",
    "Hamming_loss = hamming_loss(y_pred, smote_family)\n",
    "Hamming_loss = round(Hamming_loss, 3)\n",
    "print('Hamming Loss:', Hamming_loss)"
   ]
  },
  {
   "cell_type": "code",
   "execution_count": 62,
   "metadata": {},
   "outputs": [],
   "source": [
    "#SMOTE Genus\n",
    "smote_genus_SVM = smote_grid.fit(smote_genus_X, smote_genus)"
   ]
  },
  {
   "cell_type": "code",
   "execution_count": 63,
   "metadata": {},
   "outputs": [
    {
     "name": "stdout",
     "output_type": "stream",
     "text": [
      "SMOTE Genus:\n",
      "Best SVM Penalty: 10000.0\n",
      "Exact Match Score: 0.956\n",
      "Exact Match Loss: 0.044\n",
      "Hamming Loss: 0.044\n"
     ]
    }
   ],
   "source": [
    "print('SMOTE Genus:')\n",
    "\n",
    "#Best SVM Penalty\n",
    "best_params = smote_genus_SVM.best_params_\n",
    "best_C = best_params['C']\n",
    "best_C = round(best_C, 3)\n",
    "print('Best SVM Penalty:', best_C)\n",
    "\n",
    "#Exact Match Score\n",
    "y_pred = smote_genus_SVM.predict(smote_genus_X)\n",
    "score = accuracy_score(y_pred, smote_genus)\n",
    "score = round(score, 3)\n",
    "print('Exact Match Score:', score)\n",
    "\n",
    "#Exact Match Loss\n",
    "loss = round(1 - score, 3)\n",
    "print('Exact Match Loss:', loss)\n",
    "\n",
    "#Hamming Loss\n",
    "Hamming_loss = hamming_loss(y_pred, smote_genus)\n",
    "Hamming_loss = round(Hamming_loss, 3)\n",
    "print('Hamming Loss:', Hamming_loss)"
   ]
  },
  {
   "cell_type": "code",
   "execution_count": 64,
   "metadata": {},
   "outputs": [],
   "source": [
    "#SMOTE Species\n",
    "smote_species_SVM = smote_grid.fit(smote_species_X, smote_species)"
   ]
  },
  {
   "cell_type": "code",
   "execution_count": 66,
   "metadata": {},
   "outputs": [
    {
     "name": "stdout",
     "output_type": "stream",
     "text": [
      "SMOTE Species:\n",
      "Best SVM Penalty: 372.759\n",
      "Exact Match Score: 0.958\n",
      "Exact Match Loss: 0.042\n",
      "Hamming Loss: 0.042\n"
     ]
    }
   ],
   "source": [
    "print('SMOTE Species:')\n",
    "\n",
    "#Best SVM Penalty\n",
    "best_params = smote_species_SVM.best_params_\n",
    "best_C = best_params['C']\n",
    "best_C = round(best_C, 3)\n",
    "print('Best SVM Penalty:', best_C)\n",
    "\n",
    "#Exact Match Score\n",
    "y_pred = smote_species_SVM.predict(smote_species_X)\n",
    "score = accuracy_score(y_pred, smote_species)\n",
    "score = round(score, 3)\n",
    "print('Exact Match Score:', score)\n",
    "\n",
    "#Exact Match Loss\n",
    "loss = round(1 - score, 3)\n",
    "print('Exact Match Loss:', loss)\n",
    "\n",
    "#Hamming Loss\n",
    "Hamming_loss = hamming_loss(y_pred, smote_species)\n",
    "Hamming_loss = round(Hamming_loss, 3)\n",
    "print('Hamming Loss:', Hamming_loss)"
   ]
  },
  {
   "cell_type": "markdown",
   "metadata": {},
   "source": [
    "According to the results, exact match loss and hamming loss of Gaussian Kernel SVM is much lower than the other two methods. Exact match loss and hamming loss of Gaussian Kernel SVM with raw data is lower than that with standardized data. Exact match loss and hamming loss of L1-penalized SVM with SMOTE is lower than L1-penalized SVM. So Gaussian Kernel SVM is the most accurate but also takes more time."
   ]
  },
  {
   "cell_type": "markdown",
   "metadata": {},
   "source": []
  }
 ],
 "metadata": {
  "kernelspec": {
   "display_name": "Python 3",
   "language": "python",
   "name": "python3"
  },
  "language_info": {
   "codemirror_mode": {
    "name": "ipython",
    "version": 3
   },
   "file_extension": ".py",
   "mimetype": "text/x-python",
   "name": "python",
   "nbconvert_exporter": "python",
   "pygments_lexer": "ipython3",
   "version": "3.8.5"
  }
 },
 "nbformat": 4,
 "nbformat_minor": 4
}
